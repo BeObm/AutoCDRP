{
 "cells": [
  {
   "cell_type": "code",
   "execution_count": 1,
   "metadata": {
    "collapsed": true
   },
   "outputs": [],
   "source": [
    "import pandas as pd"
   ]
  },
  {
   "cell_type": "code",
   "execution_count": 61,
   "outputs": [
    {
     "data": {
      "text/plain": "(264, 563)"
     },
     "execution_count": 61,
     "metadata": {},
     "output_type": "execute_result"
    }
   ],
   "source": [
    "data= \"data/CCLE/mutation_ccle.csv\"\n",
    "df = pd.read_csv(data, index_col=False)\n",
    "df.shape"
   ],
   "metadata": {
    "collapsed": false
   }
  },
  {
   "cell_type": "code",
   "execution_count": 65,
   "outputs": [
    {
     "data": {
      "text/plain": "['A2058',\n 'C32',\n 'HT1197',\n 'MDAMB157',\n 'HT29',\n 'AU565',\n 'NCIH441',\n 'SW1088',\n 'HCT116',\n 'KYSE450',\n 'NCIH28',\n 'NCIH358',\n 'NCIH727',\n 'NCIH1299',\n 'SAOS2',\n 'LS411N',\n 'RKO',\n 'RPMI7951',\n 'WM115',\n 'NCIH2009',\n 'NCIH2452',\n 'UACC62',\n 'UACC257',\n 'KELLY',\n 'NCIH661',\n 'MPP89',\n 'NCIH2030',\n 'COLO205',\n 'REH',\n 'NCIH1792',\n 'NCIH1355',\n 'NCIH1048',\n 'OE33',\n 'OVCAR8',\n 'PANC1005',\n 'NCIH1915',\n 'OCIAML2',\n 'ONS76',\n 'RT112',\n 'NCIH1793',\n 'RERFGC1B',\n 'RVH421',\n 'PC14',\n 'NCIH1581',\n 'OPM2',\n 'NCIH1092',\n 'NCIH1573',\n 'RKN',\n 'PSN1',\n 'NCIH1648',\n 'OV90',\n 'NCIH1568',\n 'NCIH1944',\n 'RD',\n 'PANC0327',\n 'OC314',\n 'NCIH1155',\n 'OE21',\n 'KYSE520',\n 'KURAMOCHI',\n 'LOUNH91',\n 'GAMG',\n 'MFE319',\n 'KLE',\n 'LCLC103H',\n 'KYSE410',\n 'KP3',\n 'L363',\n 'LN229',\n 'FADU',\n 'G401',\n 'GI1',\n 'KYSE510',\n 'KU812',\n 'KCL22',\n 'LN18',\n 'FU97',\n 'GCT',\n 'MFE280',\n 'KMRC1',\n 'LS513',\n 'KYSE70',\n 'KYSE140',\n 'KALS1',\n 'LS123',\n 'GCIY',\n 'G402',\n 'MELHO',\n 'KYSE150',\n 'GB1',\n 'U118MG',\n 'TE1',\n 'SCC9',\n 'SNU182',\n 'SKNSH',\n 'TE9',\n 'SNU449',\n 'SKNFI',\n 'TOV21G',\n 'SKHEP1',\n 'YKG1',\n 'SNU475',\n 'SKOV3',\n 'TE11',\n 'SUDHL8',\n 'SKMEL24',\n 'T24',\n 'MCF7',\n 'UMUC3',\n 'SW1990',\n 'T47D',\n 'TE5',\n 'SNU387',\n 'T98G',\n 'MC116',\n 'U87MG',\n 'TCCSUP',\n 'SUDHL10',\n 'T84',\n 'CHP212',\n 'DKMG',\n 'COLO679',\n 'CAL78',\n 'EM2',\n 'A375',\n 'BT549',\n 'CAS1',\n 'COLO678',\n 'CAMA1',\n 'CORL105',\n 'DU145',\n 'EN',\n 'BFTC909',\n 'CALU6',\n 'CORL23',\n 'DAOY',\n 'C2BBE1',\n 'DETROIT562',\n 'A549',\n 'EFM19',\n 'A172',\n 'A673',\n 'EFO27',\n 'SUPT1',\n 'KP4',\n 'HDMYZ',\n 'SKES1',\n 'KYM1',\n 'HS766T',\n 'HCC827',\n 'SUIT2',\n 'KNS42',\n 'HT1080',\n 'IPC298',\n 'MDAMB453',\n 'SKMES1',\n 'KP1N',\n 'HT1376',\n 'HPAFII',\n 'KNS62',\n 'H4',\n 'SKMM2',\n 'JHH6',\n 'IM95',\n 'TOV112D',\n 'KARPAS422',\n 'HUPT4',\n 'JHH7',\n 'SW1573',\n 'SKMEL30',\n 'IGROV1',\n 'AMO1',\n 'A2780',\n 'DEL',\n 'EFO21',\n 'HUPT3',\n 'HGC27',\n 'CCK81',\n 'HCC44',\n 'HCC78',\n 'HCC15',\n 'HUCCT1',\n 'HCC1187',\n 'HS746T',\n 'HCC1954',\n 'A253',\n 'HCT15',\n 'HT144',\n 'CAL27',\n 'HCC70',\n 'HARA',\n 'HCC1806',\n 'NCIH1869',\n 'NCIH2170',\n 'NUGC3',\n 'NCIH1666',\n 'NCIH1650',\n 'NCIH2023',\n 'NCIH211',\n 'NCIH650',\n 'SNU423',\n 'NCIH1703',\n 'NCIH747',\n 'SCC25',\n 'NCIH1693',\n 'NCIH520',\n 'NCIH1694',\n 'OCUM1',\n 'SNU398',\n 'SW48',\n 'SUDHL4',\n 'NCIH23',\n 'NCIH522',\n 'NCIH647',\n 'NCIH1975',\n 'SF126',\n 'SKMEL2',\n 'HS578T',\n 'VMRCLCD',\n 'KARPAS299',\n 'NCIH2172',\n 'LP1',\n 'TYKNU',\n 'JHOS4',\n 'HUH1',\n 'MDAMB468',\n 'MDAMB415',\n 'JHOS2',\n 'MKN45',\n 'SF295',\n 'ASPC1',\n 'KYSE180',\n 'RAJI',\n 'NCIN87',\n 'MIAPACA2',\n 'SUPM2',\n 'BXPC3',\n 'SKNDZ',\n 'SKNAS',\n 'CAL12T',\n 'PANC0203',\n 'SIMA',\n 'PATU8902',\n 'PANC0403',\n 'ESS1',\n 'TC71',\n 'HCC1395',\n 'HSC2',\n 'SNGM',\n 'DBTRG05MG',\n 'MDAMB436',\n 'RL952',\n 'NCIH2087',\n 'JM1',\n 'MSTO211H',\n 'SJSA1',\n 'DOV13',\n 'OVTOKO',\n 'U2OS',\n 'NCIH2122',\n 'MFE296',\n 'NCIH226',\n 'SU8686',\n 'SW1271']"
     },
     "execution_count": 65,
     "metadata": {},
     "output_type": "execute_result"
    }
   ],
   "source": [
    "cell_name=list(df.iloc[:,0])\n",
    "\n",
    "cell_name\n"
   ],
   "metadata": {
    "collapsed": false
   }
  },
  {
   "cell_type": "code",
   "execution_count": 57,
   "outputs": [
    {
     "name": "stdout",
     "output_type": "stream",
     "text": [
      "Index(['Unnamed: 0',\n",
      "       '('cell line: LN18', 'tissue: central_nervous_system', 'histology: glioma', 'sub-histology: astrocytoma_Grade_IV', 'gender: M')',\n",
      "       '('cell line: 769P', 'tissue: kidney', 'histology: carcinoma', 'sub-histology: clear_cell_renal_cell_carcinoma', 'gender: F')',\n",
      "       '('cell line: 786O', 'tissue: kidney', 'histology: carcinoma', 'sub-histology: clear_cell_renal_cell_carcinoma', 'gender: M')',\n",
      "       '('cell line: CAOV3', 'tissue: ovary', 'histology: carcinoma', 'sub-histology: adenocarcinoma', 'gender: F')',\n",
      "       '('cell line: HEPG2', 'tissue: liver', 'histology: carcinoma', 'sub-histology: hepatocellular_carcinoma', 'gender: M')',\n",
      "       '('cell line: MOLT4', 'tissue: haematopoietic_and_lymphoid_tissue', 'histology: lymphoid_neoplasm', 'sub-histology: acute_lymphoblastic_T_cell_leukaemia', 'gender: M')',\n",
      "       '('cell line: NCIH524', 'tissue: lung', 'histology: carcinoma', 'sub-histology: small_cell_carcinoma', 'gender: M')',\n",
      "       '('cell line: NCIH209', 'tissue: lung', 'histology: carcinoma', 'sub-histology: small_cell_carcinoma', 'gender: M')',\n",
      "       '('cell line: MIAPACA2', 'tissue: pancreas', 'histology: carcinoma', 'sub-histology: ductal_carcinoma', 'gender: M')',\n",
      "       ...\n",
      "       '('cell line: SLR21', 'tissue: kidney', 'histology: carcinoma', 'sub-histology: renal_cell_carcinoma', 'gender: NA')',\n",
      "       '('cell line: LNZ308', 'tissue: central_nervous_system', 'histology: glioma', 'sub-histology: astrocytoma_Grade_IV', 'gender: NA')',\n",
      "       '('cell line: LN340', 'tissue: central_nervous_system', 'histology: glioma', 'sub-histology: astrocytoma_Grade_IV', 'gender: NA')',\n",
      "       '('cell line: HCC827GR5', 'tissue: lung', 'histology: carcinoma', 'sub-histology: adenocarcinoma', 'gender: NA')',\n",
      "       '('cell line: SLR20', 'tissue: kidney', 'histology: carcinoma', 'sub-histology: renal_cell_carcinoma', 'gender: NA')',\n",
      "       '('cell line: HK2', 'tissue: kidney', 'histology: other', 'sub-histology: immortalized_epithelial', 'gender: NA')',\n",
      "       '('cell line: EW8', 'tissue: bone', 'histology: Ewings_sarcoma-peripheral_primitive_neuroectodermal_tumour', 'sub-histology: NS', 'gender: NA')',\n",
      "       '('cell line: UOK101', 'tissue: kidney', 'histology: carcinoma', 'sub-histology: clear_cell_renal_cell_carcinoma', 'gender: NA')',\n",
      "       '('cell line: JHESOAD1', 'tissue: oesophagus', 'histology: carcinoma', 'sub-histology: barrett_associated_adenocarcinoma', 'gender: NA')',\n",
      "       '('cell line: CH157MN', 'tissue: central_nervous_system', 'histology: meningioma', 'sub-histology: NS', 'gender: NA')'],\n",
      "      dtype='object', length=1038)\n"
     ]
    }
   ],
   "source": [
    "print(df.columns)"
   ],
   "metadata": {
    "collapsed": false
   }
  },
  {
   "cell_type": "code",
   "execution_count": 15,
   "outputs": [],
   "source": [
    "import requests\n",
    "\n",
    "def get_drug_smiles(drug_id):\n",
    "    \"\"\"\n",
    "    Retrieve the SMILES string for a given drug ID using the PubChem API.\n",
    "    \"\"\"\n",
    "    # Construct the API URL\n",
    "    url = f\"https://pubchem.ncbi.nlm.nih.gov/rest/pug/compound/cid/{drug_id}/property/CanonicalSMILES/json\"\n",
    "\n",
    "    # Send the API request\n",
    "    response = requests.get(url)\n",
    "\n",
    "    # Parse the JSON response\n",
    "    json_data = response.json()\n",
    "\n",
    "    # Extract the SMILES string\n",
    "    smiles = json_data[\"PropertyTable\"][\"Properties\"][0][\"CanonicalSMILES\"]\n",
    "\n",
    "    return smiles\n"
   ],
   "metadata": {
    "collapsed": false
   }
  },
  {
   "cell_type": "code",
   "execution_count": 16,
   "outputs": [
    {
     "name": "stdout",
     "output_type": "stream",
     "text": [
      "C1=CC(=C(C=C1I)F)NC2=C(C=CC(=C2F)F)C(=O)NOCC(CO)O\n"
     ]
    }
   ],
   "source": [
    "smiles = get_pubchem_smiles(9826528)\n",
    "print(smiles)\n"
   ],
   "metadata": {
    "collapsed": false
   }
  },
  {
   "cell_type": "code",
   "execution_count": 17,
   "outputs": [],
   "source": [
    "\n",
    "import requests\n",
    "import time\n"
   ],
   "metadata": {
    "collapsed": false
   }
  },
  {
   "cell_type": "code",
   "execution_count": 12,
   "outputs": [],
   "source": [
    "def execute(name):\n",
    "\n",
    "    drug_names = []\n",
    "    drug_names.append(name)\n",
    "\n",
    "    base_url = \"https://pubchem.ncbi.nlm.nih.gov/rest/pug\"\n",
    "\n",
    "    url_for_synonyms_to_cid = f\"{base_url}/compound/name/synonyms/json\"\n",
    "    response_pub_chem_synonyms = requests.post(url_for_synonyms_to_cid, {\"name\": name})\n",
    "    if response_pub_chem_synonyms.status_code > 202:\n",
    "        raise Exception(f\"PUBChem ({url_for_synonyms_to_cid})\\nResponse code {response_pub_chem_synonyms.status_code}\\n\"\n",
    "                        f\"{response_pub_chem_synonyms.text}\")\n",
    "    response_pub_chem_synonyms = response_pub_chem_synonyms.json()\n",
    "    cid_record = response_pub_chem_synonyms[\"InformationList\"][\"Information\"][0]\n",
    "\n",
    "    time.sleep(1)\n",
    "\n",
    "    compound_properties = {}\n",
    "    url_for_pub_chem_smiles_iupac = f\"{base_url}/compound/cid/property/IUPACName,CanonicalSMILES/json\"\n",
    "    response_pub_chem_smiles_iupac = requests.post(url_for_pub_chem_smiles_iupac, {\"cid\": cid_record[\"CID\"]})\n",
    "    if response_pub_chem_smiles_iupac.status_code > 202:\n",
    "        raise Exception(f\"PUBChem ({url_for_pub_chem_smiles_iupac})\\n\"\n",
    "                        f\"Response code {response_pub_chem_smiles_iupac.status_code}\\n\"\n",
    "                        f\"{response_pub_chem_smiles_iupac.text}\")\n",
    "    response_pub_chem_smiles_iupac = response_pub_chem_smiles_iupac.json()\n",
    "    for params in response_pub_chem_smiles_iupac[\"PropertyTable\"][\"Properties\"]:\n",
    "        try:\n",
    "            compound_properties[params[\"CID\"]] = [params[\"CanonicalSMILES\"], params[\"IUPACName\"],\n",
    "                                                  cid_record[\"Synonym\"][0]]\n",
    "        except KeyError:\n",
    "            compound_properties[params[\"CID\"]] = [\"\", \"\", \"\"]\n",
    "    SMILES= list(compound_properties.values())[0][0]\n",
    "    return SMILES"
   ],
   "metadata": {
    "collapsed": false
   }
  },
  {
   "cell_type": "code",
   "execution_count": 13,
   "outputs": [
    {
     "ename": "Exception",
     "evalue": "PUBChem (https://pubchem.ncbi.nlm.nih.gov/rest/pug/compound/name/synonyms/json)\nResponse code 404\n{\n  \"Fault\": {\n    \"Code\": \"PUGREST.NotFound\",\n    \"Message\": \"No CID found\",\n    \"Details\": [\n      \"No CID found that matches the given name\"\n    ]\n  }\n}\n",
     "output_type": "error",
     "traceback": [
      "\u001B[1;31m---------------------------------------------------------------------------\u001B[0m",
      "\u001B[1;31mException\u001B[0m                                 Traceback (most recent call last)",
      "Cell \u001B[1;32mIn[13], line 1\u001B[0m\n\u001B[1;32m----> 1\u001B[0m a\u001B[38;5;241m=\u001B[39m\u001B[43mexecute\u001B[49m\u001B[43m(\u001B[49m\u001B[38;5;124;43m\"\u001B[39;49m\u001B[38;5;124;43m9826528\u001B[39;49m\u001B[38;5;124;43m\"\u001B[39;49m\u001B[43m)\u001B[49m\n\u001B[0;32m      2\u001B[0m a\n",
      "Cell \u001B[1;32mIn[12], line 11\u001B[0m, in \u001B[0;36mexecute\u001B[1;34m(name)\u001B[0m\n\u001B[0;32m      9\u001B[0m response_pub_chem_synonyms \u001B[38;5;241m=\u001B[39m requests\u001B[38;5;241m.\u001B[39mpost(url_for_synonyms_to_cid, {\u001B[38;5;124m\"\u001B[39m\u001B[38;5;124mname\u001B[39m\u001B[38;5;124m\"\u001B[39m: name})\n\u001B[0;32m     10\u001B[0m \u001B[38;5;28;01mif\u001B[39;00m response_pub_chem_synonyms\u001B[38;5;241m.\u001B[39mstatus_code \u001B[38;5;241m>\u001B[39m \u001B[38;5;241m202\u001B[39m:\n\u001B[1;32m---> 11\u001B[0m     \u001B[38;5;28;01mraise\u001B[39;00m \u001B[38;5;167;01mException\u001B[39;00m(\u001B[38;5;124mf\u001B[39m\u001B[38;5;124m\"\u001B[39m\u001B[38;5;124mPUBChem (\u001B[39m\u001B[38;5;132;01m{\u001B[39;00murl_for_synonyms_to_cid\u001B[38;5;132;01m}\u001B[39;00m\u001B[38;5;124m)\u001B[39m\u001B[38;5;130;01m\\n\u001B[39;00m\u001B[38;5;124mResponse code \u001B[39m\u001B[38;5;132;01m{\u001B[39;00mresponse_pub_chem_synonyms\u001B[38;5;241m.\u001B[39mstatus_code\u001B[38;5;132;01m}\u001B[39;00m\u001B[38;5;130;01m\\n\u001B[39;00m\u001B[38;5;124m\"\u001B[39m\n\u001B[0;32m     12\u001B[0m                     \u001B[38;5;124mf\u001B[39m\u001B[38;5;124m\"\u001B[39m\u001B[38;5;132;01m{\u001B[39;00mresponse_pub_chem_synonyms\u001B[38;5;241m.\u001B[39mtext\u001B[38;5;132;01m}\u001B[39;00m\u001B[38;5;124m\"\u001B[39m)\n\u001B[0;32m     13\u001B[0m response_pub_chem_synonyms \u001B[38;5;241m=\u001B[39m response_pub_chem_synonyms\u001B[38;5;241m.\u001B[39mjson()\n\u001B[0;32m     14\u001B[0m cid_record \u001B[38;5;241m=\u001B[39m response_pub_chem_synonyms[\u001B[38;5;124m\"\u001B[39m\u001B[38;5;124mInformationList\u001B[39m\u001B[38;5;124m\"\u001B[39m][\u001B[38;5;124m\"\u001B[39m\u001B[38;5;124mInformation\u001B[39m\u001B[38;5;124m\"\u001B[39m][\u001B[38;5;241m0\u001B[39m]\n",
      "\u001B[1;31mException\u001B[0m: PUBChem (https://pubchem.ncbi.nlm.nih.gov/rest/pug/compound/name/synonyms/json)\nResponse code 404\n{\n  \"Fault\": {\n    \"Code\": \"PUGREST.NotFound\",\n    \"Message\": \"No CID found\",\n    \"Details\": [\n      \"No CID found that matches the given name\"\n    ]\n  }\n}\n"
     ]
    }
   ],
   "source": [
    "a=execute(\"9826528\")\n",
    "a"
   ],
   "metadata": {
    "collapsed": false
   }
  },
  {
   "cell_type": "code",
   "execution_count": 14,
   "outputs": [
    {
     "ename": "NameError",
     "evalue": "name 'a' is not defined",
     "output_type": "error",
     "traceback": [
      "\u001B[1;31m---------------------------------------------------------------------------\u001B[0m",
      "\u001B[1;31mNameError\u001B[0m                                 Traceback (most recent call last)",
      "Cell \u001B[1;32mIn[14], line 1\u001B[0m\n\u001B[1;32m----> 1\u001B[0m \u001B[38;5;28mprint\u001B[39m(\u001B[43ma\u001B[49m)\n",
      "\u001B[1;31mNameError\u001B[0m: name 'a' is not defined"
     ]
    }
   ],
   "source": [
    "print(a)"
   ],
   "metadata": {
    "collapsed": false
   }
  },
  {
   "cell_type": "code",
   "execution_count": 68,
   "outputs": [
    {
     "data": {
      "text/plain": "     0         1             2\n0    1  11476171        AEW541\n1    2    644241     Nilotinib\n2    3   6505803        17-AAG\n3    4  10461815    PHA-665752\n4    5    208908     Lapatinib\n5    6    216345      Nutlin-3\n6    7  10302451       AZD0530\n7    8  11626560     PF2341066\n8    9   5479543      L-685458\n9   10   3081361       ZD-6474\n10  11   6918837  Panobinostat\n11  12    216239     Sorafenib\n12  13     60838    Irinotecan\n13  14     60700     Topotecan\n14  15   9826528    PD-0325901\n15  16   5330286    PD-0332991\n16  17     36314    Paclitaxel\n17  18  10127622       AZD6244\n18  19  24180719       PLX4720\n19  20  11656518        RAF265\n20  21  16038120        TAE684\n21  22   9886808        TKI258\n22  23    176870     Erlotinib",
      "text/html": "<div>\n<style scoped>\n    .dataframe tbody tr th:only-of-type {\n        vertical-align: middle;\n    }\n\n    .dataframe tbody tr th {\n        vertical-align: top;\n    }\n\n    .dataframe thead th {\n        text-align: right;\n    }\n</style>\n<table border=\"1\" class=\"dataframe\">\n  <thead>\n    <tr style=\"text-align: right;\">\n      <th></th>\n      <th>0</th>\n      <th>1</th>\n      <th>2</th>\n    </tr>\n  </thead>\n  <tbody>\n    <tr>\n      <th>0</th>\n      <td>1</td>\n      <td>11476171</td>\n      <td>AEW541</td>\n    </tr>\n    <tr>\n      <th>1</th>\n      <td>2</td>\n      <td>644241</td>\n      <td>Nilotinib</td>\n    </tr>\n    <tr>\n      <th>2</th>\n      <td>3</td>\n      <td>6505803</td>\n      <td>17-AAG</td>\n    </tr>\n    <tr>\n      <th>3</th>\n      <td>4</td>\n      <td>10461815</td>\n      <td>PHA-665752</td>\n    </tr>\n    <tr>\n      <th>4</th>\n      <td>5</td>\n      <td>208908</td>\n      <td>Lapatinib</td>\n    </tr>\n    <tr>\n      <th>5</th>\n      <td>6</td>\n      <td>216345</td>\n      <td>Nutlin-3</td>\n    </tr>\n    <tr>\n      <th>6</th>\n      <td>7</td>\n      <td>10302451</td>\n      <td>AZD0530</td>\n    </tr>\n    <tr>\n      <th>7</th>\n      <td>8</td>\n      <td>11626560</td>\n      <td>PF2341066</td>\n    </tr>\n    <tr>\n      <th>8</th>\n      <td>9</td>\n      <td>5479543</td>\n      <td>L-685458</td>\n    </tr>\n    <tr>\n      <th>9</th>\n      <td>10</td>\n      <td>3081361</td>\n      <td>ZD-6474</td>\n    </tr>\n    <tr>\n      <th>10</th>\n      <td>11</td>\n      <td>6918837</td>\n      <td>Panobinostat</td>\n    </tr>\n    <tr>\n      <th>11</th>\n      <td>12</td>\n      <td>216239</td>\n      <td>Sorafenib</td>\n    </tr>\n    <tr>\n      <th>12</th>\n      <td>13</td>\n      <td>60838</td>\n      <td>Irinotecan</td>\n    </tr>\n    <tr>\n      <th>13</th>\n      <td>14</td>\n      <td>60700</td>\n      <td>Topotecan</td>\n    </tr>\n    <tr>\n      <th>14</th>\n      <td>15</td>\n      <td>9826528</td>\n      <td>PD-0325901</td>\n    </tr>\n    <tr>\n      <th>15</th>\n      <td>16</td>\n      <td>5330286</td>\n      <td>PD-0332991</td>\n    </tr>\n    <tr>\n      <th>16</th>\n      <td>17</td>\n      <td>36314</td>\n      <td>Paclitaxel</td>\n    </tr>\n    <tr>\n      <th>17</th>\n      <td>18</td>\n      <td>10127622</td>\n      <td>AZD6244</td>\n    </tr>\n    <tr>\n      <th>18</th>\n      <td>19</td>\n      <td>24180719</td>\n      <td>PLX4720</td>\n    </tr>\n    <tr>\n      <th>19</th>\n      <td>20</td>\n      <td>11656518</td>\n      <td>RAF265</td>\n    </tr>\n    <tr>\n      <th>20</th>\n      <td>21</td>\n      <td>16038120</td>\n      <td>TAE684</td>\n    </tr>\n    <tr>\n      <th>21</th>\n      <td>22</td>\n      <td>9886808</td>\n      <td>TKI258</td>\n    </tr>\n    <tr>\n      <th>22</th>\n      <td>23</td>\n      <td>176870</td>\n      <td>Erlotinib</td>\n    </tr>\n  </tbody>\n</table>\n</div>"
     },
     "execution_count": 68,
     "metadata": {},
     "output_type": "execute_result"
    }
   ],
   "source": [
    "import numpy as np\n",
    "import pandas as pd\n",
    "\n",
    "pd.read_excel(\"data/CCLE/drug_id_name.xlsx\", header=None)"
   ],
   "metadata": {
    "collapsed": false
   }
  },
  {
   "cell_type": "code",
   "execution_count": 70,
   "outputs": [
    {
     "data": {
      "text/plain": "          AEW541  Nilotinib  X17.AAG  PHA.665752  Lapatinib  Nutlin.3  \\\nA2058     1.0006    0.02046   4.7470    0.200300    0.12020    0.1101   \nC32       0.8161    0.13930   6.5863    0.191400    0.00000    0.0000   \nHT1197    1.5118    0.06098   1.8151    0.008045    0.35320    0.3538   \nMDAMB157  0.7972    0.65890   0.8792    0.014940    0.11380    0.4724   \nHT29      1.8932    0.43980   5.3135    0.264800    0.80290    0.3962   \n...          ...        ...      ...         ...        ...       ...   \nNCIH2122  1.7100    0.57320   4.9960    0.792200    1.05450    0.3708   \nMFE296    0.9253        NaN   2.9064    0.453000    0.44470    0.4547   \nNCIH226   0.6322    0.00000   2.0162    0.000000    0.00000    0.1363   \nSU8686    0.7582        NaN   2.4711    0.285400    0.09048    0.1480   \nSW1271    1.2973    0.63140   2.6201    0.850200    0.12660    0.7121   \n\n          AZD0530  PF2341066  L.685458  ZD.6474  ...   LBW242  PD.0325901  \\\nA2058      0.7930     0.5221   0.06193   1.3466  ...  1.19890      2.4465   \nC32        0.0000     0.2610   0.04038   0.4507  ...  0.49080      3.2117   \nHT1197     0.7165     0.2529   0.04266   1.0391  ...  0.35800      2.0249   \nMDAMB157   0.5788     1.1257   0.42680   0.4384  ...  1.11440      0.7510   \nHT29       0.9439     0.5708   0.14030   1.2904  ...  0.17590      4.6830   \n...           ...        ...       ...      ...  ...      ...         ...   \nNCIH2122   0.8178     0.6180   0.34960   0.8166  ...  0.91730      4.4466   \nMFE296     1.1319     0.5073   0.48720   1.5118  ...  1.02660      0.6229   \nNCIH226    0.2167     0.1941   0.00000   0.2921  ...  0.04654      1.5890   \nSU8686     0.3333     0.2915   0.01013   0.5285  ...  0.90710      0.7627   \nSW1271     1.3076     0.7189   0.07391   0.9662  ...  1.24430      2.2362   \n\n          PD.0332991  Paclitaxel  AZD6244  PLX4720  RAF265  TAE684  TKI258  \\\nA2058        0.00000      7.1679   1.8154   0.7129  0.9206  0.8825  0.8580   \nC32          0.07469      3.1892   1.8523   1.2483  1.1826  0.6679  0.3908   \nHT1197       0.00000      1.9670   1.1711   0.0000  1.8252  1.0320  0.6075   \nMDAMB157     0.11570      3.8675   0.6353   0.0486  1.9967  1.1916  1.4616   \nHT29         0.34300      6.2246   4.1480   1.6266  2.0208  2.1444  0.9653   \n...              ...         ...      ...      ...     ...     ...     ...   \nNCIH2122     1.27400      6.6492   3.0327   0.8008  2.0903  1.8716  1.0366   \nMFE296           NaN      5.9629   0.3140   0.3759  1.9443  0.7959  1.3124   \nNCIH226      0.26010      3.2070   0.3049   0.0000  1.3318  0.7534  0.8242   \nSU8686       0.00000      4.1376   0.6160   0.2061  1.1501  0.2885  0.1613   \nSW1271       0.27130      4.1891   1.6690   0.5061  1.3744  0.8180  0.1423   \n\n          Erlotinib  \nA2058       0.00000  \nC32         0.28600  \nHT1197      0.26420  \nMDAMB157    0.26840  \nHT29        0.00000  \n...             ...  \nNCIH2122    0.89590  \nMFE296      0.61760  \nNCIH226     0.00000  \nSU8686      0.18660  \nSW1271      0.08464  \n\n[264 rows x 24 columns]",
      "text/html": "<div>\n<style scoped>\n    .dataframe tbody tr th:only-of-type {\n        vertical-align: middle;\n    }\n\n    .dataframe tbody tr th {\n        vertical-align: top;\n    }\n\n    .dataframe thead th {\n        text-align: right;\n    }\n</style>\n<table border=\"1\" class=\"dataframe\">\n  <thead>\n    <tr style=\"text-align: right;\">\n      <th></th>\n      <th>AEW541</th>\n      <th>Nilotinib</th>\n      <th>X17.AAG</th>\n      <th>PHA.665752</th>\n      <th>Lapatinib</th>\n      <th>Nutlin.3</th>\n      <th>AZD0530</th>\n      <th>PF2341066</th>\n      <th>L.685458</th>\n      <th>ZD.6474</th>\n      <th>...</th>\n      <th>LBW242</th>\n      <th>PD.0325901</th>\n      <th>PD.0332991</th>\n      <th>Paclitaxel</th>\n      <th>AZD6244</th>\n      <th>PLX4720</th>\n      <th>RAF265</th>\n      <th>TAE684</th>\n      <th>TKI258</th>\n      <th>Erlotinib</th>\n    </tr>\n  </thead>\n  <tbody>\n    <tr>\n      <th>A2058</th>\n      <td>1.0006</td>\n      <td>0.02046</td>\n      <td>4.7470</td>\n      <td>0.200300</td>\n      <td>0.12020</td>\n      <td>0.1101</td>\n      <td>0.7930</td>\n      <td>0.5221</td>\n      <td>0.06193</td>\n      <td>1.3466</td>\n      <td>...</td>\n      <td>1.19890</td>\n      <td>2.4465</td>\n      <td>0.00000</td>\n      <td>7.1679</td>\n      <td>1.8154</td>\n      <td>0.7129</td>\n      <td>0.9206</td>\n      <td>0.8825</td>\n      <td>0.8580</td>\n      <td>0.00000</td>\n    </tr>\n    <tr>\n      <th>C32</th>\n      <td>0.8161</td>\n      <td>0.13930</td>\n      <td>6.5863</td>\n      <td>0.191400</td>\n      <td>0.00000</td>\n      <td>0.0000</td>\n      <td>0.0000</td>\n      <td>0.2610</td>\n      <td>0.04038</td>\n      <td>0.4507</td>\n      <td>...</td>\n      <td>0.49080</td>\n      <td>3.2117</td>\n      <td>0.07469</td>\n      <td>3.1892</td>\n      <td>1.8523</td>\n      <td>1.2483</td>\n      <td>1.1826</td>\n      <td>0.6679</td>\n      <td>0.3908</td>\n      <td>0.28600</td>\n    </tr>\n    <tr>\n      <th>HT1197</th>\n      <td>1.5118</td>\n      <td>0.06098</td>\n      <td>1.8151</td>\n      <td>0.008045</td>\n      <td>0.35320</td>\n      <td>0.3538</td>\n      <td>0.7165</td>\n      <td>0.2529</td>\n      <td>0.04266</td>\n      <td>1.0391</td>\n      <td>...</td>\n      <td>0.35800</td>\n      <td>2.0249</td>\n      <td>0.00000</td>\n      <td>1.9670</td>\n      <td>1.1711</td>\n      <td>0.0000</td>\n      <td>1.8252</td>\n      <td>1.0320</td>\n      <td>0.6075</td>\n      <td>0.26420</td>\n    </tr>\n    <tr>\n      <th>MDAMB157</th>\n      <td>0.7972</td>\n      <td>0.65890</td>\n      <td>0.8792</td>\n      <td>0.014940</td>\n      <td>0.11380</td>\n      <td>0.4724</td>\n      <td>0.5788</td>\n      <td>1.1257</td>\n      <td>0.42680</td>\n      <td>0.4384</td>\n      <td>...</td>\n      <td>1.11440</td>\n      <td>0.7510</td>\n      <td>0.11570</td>\n      <td>3.8675</td>\n      <td>0.6353</td>\n      <td>0.0486</td>\n      <td>1.9967</td>\n      <td>1.1916</td>\n      <td>1.4616</td>\n      <td>0.26840</td>\n    </tr>\n    <tr>\n      <th>HT29</th>\n      <td>1.8932</td>\n      <td>0.43980</td>\n      <td>5.3135</td>\n      <td>0.264800</td>\n      <td>0.80290</td>\n      <td>0.3962</td>\n      <td>0.9439</td>\n      <td>0.5708</td>\n      <td>0.14030</td>\n      <td>1.2904</td>\n      <td>...</td>\n      <td>0.17590</td>\n      <td>4.6830</td>\n      <td>0.34300</td>\n      <td>6.2246</td>\n      <td>4.1480</td>\n      <td>1.6266</td>\n      <td>2.0208</td>\n      <td>2.1444</td>\n      <td>0.9653</td>\n      <td>0.00000</td>\n    </tr>\n    <tr>\n      <th>...</th>\n      <td>...</td>\n      <td>...</td>\n      <td>...</td>\n      <td>...</td>\n      <td>...</td>\n      <td>...</td>\n      <td>...</td>\n      <td>...</td>\n      <td>...</td>\n      <td>...</td>\n      <td>...</td>\n      <td>...</td>\n      <td>...</td>\n      <td>...</td>\n      <td>...</td>\n      <td>...</td>\n      <td>...</td>\n      <td>...</td>\n      <td>...</td>\n      <td>...</td>\n      <td>...</td>\n    </tr>\n    <tr>\n      <th>NCIH2122</th>\n      <td>1.7100</td>\n      <td>0.57320</td>\n      <td>4.9960</td>\n      <td>0.792200</td>\n      <td>1.05450</td>\n      <td>0.3708</td>\n      <td>0.8178</td>\n      <td>0.6180</td>\n      <td>0.34960</td>\n      <td>0.8166</td>\n      <td>...</td>\n      <td>0.91730</td>\n      <td>4.4466</td>\n      <td>1.27400</td>\n      <td>6.6492</td>\n      <td>3.0327</td>\n      <td>0.8008</td>\n      <td>2.0903</td>\n      <td>1.8716</td>\n      <td>1.0366</td>\n      <td>0.89590</td>\n    </tr>\n    <tr>\n      <th>MFE296</th>\n      <td>0.9253</td>\n      <td>NaN</td>\n      <td>2.9064</td>\n      <td>0.453000</td>\n      <td>0.44470</td>\n      <td>0.4547</td>\n      <td>1.1319</td>\n      <td>0.5073</td>\n      <td>0.48720</td>\n      <td>1.5118</td>\n      <td>...</td>\n      <td>1.02660</td>\n      <td>0.6229</td>\n      <td>NaN</td>\n      <td>5.9629</td>\n      <td>0.3140</td>\n      <td>0.3759</td>\n      <td>1.9443</td>\n      <td>0.7959</td>\n      <td>1.3124</td>\n      <td>0.61760</td>\n    </tr>\n    <tr>\n      <th>NCIH226</th>\n      <td>0.6322</td>\n      <td>0.00000</td>\n      <td>2.0162</td>\n      <td>0.000000</td>\n      <td>0.00000</td>\n      <td>0.1363</td>\n      <td>0.2167</td>\n      <td>0.1941</td>\n      <td>0.00000</td>\n      <td>0.2921</td>\n      <td>...</td>\n      <td>0.04654</td>\n      <td>1.5890</td>\n      <td>0.26010</td>\n      <td>3.2070</td>\n      <td>0.3049</td>\n      <td>0.0000</td>\n      <td>1.3318</td>\n      <td>0.7534</td>\n      <td>0.8242</td>\n      <td>0.00000</td>\n    </tr>\n    <tr>\n      <th>SU8686</th>\n      <td>0.7582</td>\n      <td>NaN</td>\n      <td>2.4711</td>\n      <td>0.285400</td>\n      <td>0.09048</td>\n      <td>0.1480</td>\n      <td>0.3333</td>\n      <td>0.2915</td>\n      <td>0.01013</td>\n      <td>0.5285</td>\n      <td>...</td>\n      <td>0.90710</td>\n      <td>0.7627</td>\n      <td>0.00000</td>\n      <td>4.1376</td>\n      <td>0.6160</td>\n      <td>0.2061</td>\n      <td>1.1501</td>\n      <td>0.2885</td>\n      <td>0.1613</td>\n      <td>0.18660</td>\n    </tr>\n    <tr>\n      <th>SW1271</th>\n      <td>1.2973</td>\n      <td>0.63140</td>\n      <td>2.6201</td>\n      <td>0.850200</td>\n      <td>0.12660</td>\n      <td>0.7121</td>\n      <td>1.3076</td>\n      <td>0.7189</td>\n      <td>0.07391</td>\n      <td>0.9662</td>\n      <td>...</td>\n      <td>1.24430</td>\n      <td>2.2362</td>\n      <td>0.27130</td>\n      <td>4.1891</td>\n      <td>1.6690</td>\n      <td>0.5061</td>\n      <td>1.3744</td>\n      <td>0.8180</td>\n      <td>0.1423</td>\n      <td>0.08464</td>\n    </tr>\n  </tbody>\n</table>\n<p>264 rows × 24 columns</p>\n</div>"
     },
     "execution_count": 70,
     "metadata": {},
     "output_type": "execute_result"
    }
   ],
   "source": [
    "df=pd.read_csv(\"data/CCLE/drugResponse_ccle.csv\", index_col=0)\n",
    "df"
   ],
   "metadata": {
    "collapsed": false
   }
  },
  {
   "cell_type": "code",
   "execution_count": 71,
   "outputs": [],
   "source": [
    "tmp=[]\n",
    "for idx,row in df.iterrows():\n",
    "  for col in df.columns:\n",
    "    tmp.append((col,idx,df.loc[idx,col]))"
   ],
   "metadata": {
    "collapsed": false
   }
  },
  {
   "cell_type": "code",
   "execution_count": 73,
   "outputs": [
    {
     "name": "stdout",
     "output_type": "stream",
     "text": [
      "('Nutlin.3', 'A2058', 0.1101)\n"
     ]
    }
   ],
   "source": [
    "print(tmp[5])"
   ],
   "metadata": {
    "collapsed": false
   }
  },
  {
   "cell_type": "code",
   "execution_count": null,
   "outputs": [],
   "source": [],
   "metadata": {
    "collapsed": false
   }
  }
 ],
 "metadata": {
  "kernelspec": {
   "display_name": "Python 3",
   "language": "python",
   "name": "python3"
  },
  "language_info": {
   "codemirror_mode": {
    "name": "ipython",
    "version": 2
   },
   "file_extension": ".py",
   "mimetype": "text/x-python",
   "name": "python",
   "nbconvert_exporter": "python",
   "pygments_lexer": "ipython2",
   "version": "2.7.6"
  }
 },
 "nbformat": 4,
 "nbformat_minor": 0
}
