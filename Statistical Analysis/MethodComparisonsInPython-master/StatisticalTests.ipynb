{
 "cells": [
  {
   "cell_type": "code",
   "execution_count": 4,
   "metadata": {},
   "outputs": [
    {
     "ename": "FileNotFoundError",
     "evalue": "Could not find module 'C:\\Users\\molou\\miniconda3\\lib\\site-packages\\scipy\\.libs\\libbanded5x.C73QWS75JMD4JCU5XPXSFMGALVDFFJKI.gfortran-win_amd64.dll' (or one of its dependencies). Try using the full path with constructor syntax.",
     "output_type": "error",
     "traceback": [
      "\u001B[1;31m---------------------------------------------------------------------------\u001B[0m",
      "\u001B[1;31mFileNotFoundError\u001B[0m                         Traceback (most recent call last)",
      "Cell \u001B[1;32mIn[4], line 3\u001B[0m\n\u001B[0;32m      1\u001B[0m \u001B[38;5;28;01mimport\u001B[39;00m \u001B[38;5;21;01mpandas\u001B[39;00m \u001B[38;5;28;01mas\u001B[39;00m \u001B[38;5;21;01mpd\u001B[39;00m\n\u001B[0;32m      2\u001B[0m \u001B[38;5;28;01mimport\u001B[39;00m \u001B[38;5;21;01mnumpy\u001B[39;00m \u001B[38;5;28;01mas\u001B[39;00m \u001B[38;5;21;01mnp\u001B[39;00m\n\u001B[1;32m----> 3\u001B[0m \u001B[38;5;28;01mfrom\u001B[39;00m \u001B[38;5;21;01mscipy\u001B[39;00m \u001B[38;5;28;01mimport\u001B[39;00m stats\n\u001B[0;32m      4\u001B[0m \u001B[38;5;28;01mimport\u001B[39;00m \u001B[38;5;21;01mscikit_posthocs\u001B[39;00m \u001B[38;5;28;01mas\u001B[39;00m \u001B[38;5;21;01msp\u001B[39;00m \u001B[38;5;66;03m# https://pypi.org/project/scikit-posthocs/\u001B[39;00m\n\u001B[0;32m      5\u001B[0m \u001B[38;5;28;01mimport\u001B[39;00m \u001B[38;5;21;01mstac\u001B[39;00m\n",
      "File \u001B[1;32m~\\miniconda3\\lib\\site-packages\\scipy\\__init__.py:132\u001B[0m\n\u001B[0;32m    129\u001B[0m \u001B[38;5;28;01mfrom\u001B[39;00m \u001B[38;5;21;01mscipy\u001B[39;00m\u001B[38;5;21;01m.\u001B[39;00m\u001B[38;5;21;01mversion\u001B[39;00m \u001B[38;5;28;01mimport\u001B[39;00m version \u001B[38;5;28;01mas\u001B[39;00m __version__\n\u001B[0;32m    131\u001B[0m \u001B[38;5;66;03m# Allow distributors to run custom init code\u001B[39;00m\n\u001B[1;32m--> 132\u001B[0m \u001B[38;5;28;01mfrom\u001B[39;00m \u001B[38;5;21;01m.\u001B[39;00m \u001B[38;5;28;01mimport\u001B[39;00m _distributor_init\n\u001B[0;32m    133\u001B[0m \u001B[38;5;28;01mdel\u001B[39;00m _distributor_init\n\u001B[0;32m    135\u001B[0m \u001B[38;5;28;01mfrom\u001B[39;00m \u001B[38;5;21;01mscipy\u001B[39;00m\u001B[38;5;21;01m.\u001B[39;00m\u001B[38;5;21;01m_lib\u001B[39;00m \u001B[38;5;28;01mimport\u001B[39;00m _pep440\n",
      "File \u001B[1;32m~\\miniconda3\\lib\\site-packages\\scipy\\_distributor_init.py:59\u001B[0m\n\u001B[0;32m     57\u001B[0m     os\u001B[38;5;241m.\u001B[39mchdir(libs_path)\n\u001B[0;32m     58\u001B[0m     \u001B[38;5;28;01mfor\u001B[39;00m filename \u001B[38;5;129;01min\u001B[39;00m glob\u001B[38;5;241m.\u001B[39mglob(os\u001B[38;5;241m.\u001B[39mpath\u001B[38;5;241m.\u001B[39mjoin(libs_path, \u001B[38;5;124m'\u001B[39m\u001B[38;5;124m*dll\u001B[39m\u001B[38;5;124m'\u001B[39m)):\n\u001B[1;32m---> 59\u001B[0m         \u001B[43mWinDLL\u001B[49m\u001B[43m(\u001B[49m\u001B[43mos\u001B[49m\u001B[38;5;241;43m.\u001B[39;49m\u001B[43mpath\u001B[49m\u001B[38;5;241;43m.\u001B[39;49m\u001B[43mabspath\u001B[49m\u001B[43m(\u001B[49m\u001B[43mfilename\u001B[49m\u001B[43m)\u001B[49m\u001B[43m)\u001B[49m\n\u001B[0;32m     60\u001B[0m \u001B[38;5;28;01mfinally\u001B[39;00m:\n\u001B[0;32m     61\u001B[0m     os\u001B[38;5;241m.\u001B[39mchdir(owd)\n",
      "File \u001B[1;32m~\\miniconda3\\lib\\ctypes\\__init__.py:373\u001B[0m, in \u001B[0;36mCDLL.__init__\u001B[1;34m(self, name, mode, handle, use_errno, use_last_error, winmode)\u001B[0m\n\u001B[0;32m    370\u001B[0m \u001B[38;5;28mself\u001B[39m\u001B[38;5;241m.\u001B[39m_FuncPtr \u001B[38;5;241m=\u001B[39m _FuncPtr\n\u001B[0;32m    372\u001B[0m \u001B[38;5;28;01mif\u001B[39;00m handle \u001B[38;5;129;01mis\u001B[39;00m \u001B[38;5;28;01mNone\u001B[39;00m:\n\u001B[1;32m--> 373\u001B[0m     \u001B[38;5;28mself\u001B[39m\u001B[38;5;241m.\u001B[39m_handle \u001B[38;5;241m=\u001B[39m \u001B[43m_dlopen\u001B[49m\u001B[43m(\u001B[49m\u001B[38;5;28;43mself\u001B[39;49m\u001B[38;5;241;43m.\u001B[39;49m\u001B[43m_name\u001B[49m\u001B[43m,\u001B[49m\u001B[43m \u001B[49m\u001B[43mmode\u001B[49m\u001B[43m)\u001B[49m\n\u001B[0;32m    374\u001B[0m \u001B[38;5;28;01melse\u001B[39;00m:\n\u001B[0;32m    375\u001B[0m     \u001B[38;5;28mself\u001B[39m\u001B[38;5;241m.\u001B[39m_handle \u001B[38;5;241m=\u001B[39m handle\n",
      "\u001B[1;31mFileNotFoundError\u001B[0m: Could not find module 'C:\\Users\\molou\\miniconda3\\lib\\site-packages\\scipy\\.libs\\libbanded5x.C73QWS75JMD4JCU5XPXSFMGALVDFFJKI.gfortran-win_amd64.dll' (or one of its dependencies). Try using the full path with constructor syntax."
     ]
    }
   ],
   "source": [
    "import pandas as pd\n",
    "import numpy as np\n",
    "from scipy import stats\n",
    "import scikit_posthocs as sp # https://pypi.org/project/scikit-posthocs/\n",
    "import stac\n",
    "import matplotlib.pyplot as plt"
   ]
  },
  {
   "cell_type": "markdown",
   "metadata": {},
   "source": [
    "# Read in our data for comparing"
   ]
  },
  {
   "cell_type": "code",
   "execution_count": null,
   "metadata": {},
   "outputs": [],
   "source": [
    "# Assumes a formattting where rows are datasets, and the methods are columns\n",
    "df = pd.read_excel(\"data/comparison_result_autocdrp.xlsx\",engine=\"openpyxl\",header=0,index_col=0)\n",
    "# df = pd.read_csv(\"data/rankings.csv\",header=0,index_col=0)\n",
    "# df=df.drop(columns=\"AutoCDRP\")\n",
    "data = np.asarray(df)\n",
    "\n",
    "print(\"Read data\")\n",
    "\n",
    "# To be safe, ensure this matches what was expected\n",
    "num_datasets, num_methods = data.shape\n",
    "print(\"Methods:\", num_methods, \"Datasets:\", num_datasets)\n"
   ]
  },
  {
   "cell_type": "markdown",
   "metadata": {},
   "source": [
    "conda at## Friedman testing\n",
    "Non parametric test to check if there is a difference in means between the groups (classifiers)"
   ]
  },
  {
   "cell_type": "code",
   "execution_count": null,
   "metadata": {},
   "outputs": [],
   "source": [
    "alpha = 0.1 # Set this to the desired alpha/signifance level\n",
    "\n",
    "stat, p = stats.friedmanchisquare(*data)\n",
    "\n",
    "print(f\"The friendman's chi-square value is {stat} and p-value={p}\")\n",
    "reject = p <= alpha\n",
    "print(\"Should we reject H0 (i.e. is there a difference in the means) at the\", (1-alpha)*100, \"% confidence level?\", reject)"
   ]
  },
  {
   "cell_type": "markdown",
   "metadata": {},
   "source": []
  },
  {
   "cell_type": "markdown",
   "metadata": {},
   "source": [
    "### Post Hoc Analysis\n",
    "See [Statistical Comparisons of Classifiers over Multiple Data Sets](http://citeseerx.ist.psu.edu/viewdoc/download?doi=10.1.1.141.3142&rep=rep1&type=pdf) for more detail"
   ]
  },
  {
   "cell_type": "code",
   "execution_count": null,
   "metadata": {},
   "outputs": [],
   "source": [
    "# At this point, we should only continue if H0 was rejected\n",
    "if not reject:\n",
    "    raise Exception(\"Exiting early. The rankings are only relevant if there was a difference in the means i.e. if we rejected h0 above\")"
   ]
  },
  {
   "cell_type": "code",
   "execution_count": null,
   "metadata": {},
   "outputs": [],
   "source": [
    "# Helper functions for performing the statistical tests\n",
    "def generate_scores(method, method_args, data, labels):\n",
    "    pairwise_scores = method(data, **method_args) # Matrix for all pairwise comaprisons\n",
    "    pairwise_scores=pairwise_scores.set_axis(labels, axis='columns') # Label the cols\n",
    "    pairwise_scores=pairwise_scores.set_axis(labels, axis='rows') # Label the rows, note: same label as pairwise combinations\n",
    "    return pairwise_scores\n",
    "\n",
    "def plot(scores):\n",
    "    # Pretty plot of significance\n",
    "    heatmap_args = {'linewidths': 0.25, 'linecolor': '0.5', 'square': True,'cbar_ax_bbox': [0.80, 0.35, 0.04, 0.3]}\n",
    "\n",
    "    sp.sign_plot(scores, **heatmap_args)"
   ]
  },
  {
   "cell_type": "markdown",
   "metadata": {},
   "source": [
    "#### Nemenyi Test\n",
    "Note: This is relevant when you would like to compare various methods.\n",
    "For example if you propose several methods and want to compare them all against each\n",
    "other, or to do an exhaustive comparison against several method. Often this is not\n",
    "what we want, as we propose only one method (instead see Bonferoni below), and this would\n",
    "be overconservativew. "
   ]
  },
  {
   "cell_type": "code",
   "execution_count": null,
   "metadata": {},
   "outputs": [],
   "source": [
    "nemenyi_scores = generate_scores(sp.posthoc_nemenyi_friedman, {}, data, list(df.columns))"
   ]
  },
  {
   "cell_type": "code",
   "execution_count": null,
   "outputs": [],
   "source": [
    "list(df.columns)"
   ],
   "metadata": {
    "collapsed": false
   }
  },
  {
   "cell_type": "code",
   "execution_count": null,
   "metadata": {},
   "outputs": [],
   "source": [
    "# Shows the p values for each pair\n",
    "nemenyi_scores"
   ]
  },
  {
   "cell_type": "code",
   "execution_count": null,
   "outputs": [],
   "source": [
    "is not a valid value for name; supported values are 'Accent', 'Accent_r', 'Blues', 'Blues_r', 'BrBG', 'BrBG_r', 'BuGn', 'BuGn_r', 'BuPu', 'BuPu_r', 'CMRmap', 'CMRmap_r', 'Dark2', 'Dark2_r', 'GnBu', 'GnBu_r', 'Greens', 'Greens_r', 'Greys', 'Greys_r', 'OrRd', 'OrRd_r', 'Oranges', 'Oranges_r', 'PRGn', 'PRGn_r', 'Paired', 'Paired_r', 'Pastel1', 'Pastel1_r', 'Pastel2', 'Pastel2_r', 'PiYG', 'PiYG_r', 'PuBu', 'PuBuGn', 'PuBuGn_r', 'PuBu_r', 'PuOr', 'PuOr_r', 'PuRd', 'PuRd_r', 'Purples', 'Purples_r', 'RdBu', 'RdBu_r', 'RdGy', 'RdGy_r', 'RdPu', 'RdPu_r', 'RdYlBu', 'RdYlBu_r', 'RdYlGn', 'RdYlGn_r', 'Reds', 'Reds_r', 'Set1', 'Set1_r', 'Set2', 'Set2_r', 'Set3', 'Set3_r', 'Spectral', 'Spectral_r', 'Wistia', 'Wistia_r', 'YlGn', 'YlGnBu', 'YlGnBu_r', 'YlGn_r', 'YlOrBr', 'YlOrBr_r', 'YlOrRd', 'YlOrRd_r', 'afmhot', 'afmhot_r', 'autumn', 'autumn_r', 'binary', 'binary_r', 'bone', 'bone_r', 'brg', 'brg_r', 'bwr', 'bwr_r', 'cividis', 'cividis_r', 'cool', 'cool_r', 'coolwarm', 'coolwarm_r', 'copper', 'copper_r', 'crest', 'crest_r', 'cubehelix', 'cubehelix_r', 'flag', 'flag_r', 'flare', 'flare_r', 'gist_earth', 'gist_earth_r', 'gist_gray', 'gist_gray_r', 'gist_heat', 'gist_heat_r', 'gist_ncar', 'gist_ncar_r', 'gist_rainbow', 'gist_rainbow_r', 'gist_stern', 'gist_stern_r', 'gist_yarg', 'gist_yarg_r', 'gnuplot', 'gnuplot2', 'gnuplot2_r', 'gnuplot_r', 'gray', 'gray_r', 'hot', 'hot_r', 'hsv', 'hsv_r', 'icefire', 'icefire_r', 'inferno', 'inferno_r', 'jet', 'jet_r', 'magma', 'magma_r', 'mako', 'mako_r', 'nipy_spectral', 'nipy_spectral_r', 'ocean', 'ocean_r', 'pink', 'pink_r', 'plasma', 'plasma_r', 'prism', 'prism_r', 'rainbow', 'rainbow_r', 'rocket', 'rocket_r', 'seismic', 'seismic_r', 'spring', 'spring_r', 'summer', 'summer_r', 'tab10', 'tab10_r', 'tab20', 'tab20_r', 'tab20b', 'tab20b_r', 'tab20c', 'tab20c_r', 'terrain', 'terrain_r', 'turbo', 'turbo_r', 'twilight', 'twilight_r', 'twilight_shifted', 'twilight_shifted_r', 'viridis', 'viridis_r', 'vlag', 'vlag_r', 'winter', 'winter_r"
   ],
   "metadata": {
    "collapsed": false
   }
  },
  {
   "cell_type": "code",
   "execution_count": null,
   "metadata": {},
   "outputs": [],
   "source": [
    "import seaborn as sns\n",
    "fig=sns.heatmap(nemenyi_scores,annot=False,cmap=\"jet_r\")\n",
    "fig.figure.savefig(\"output.pdf\",dpi=300,format=\"pdf\", bbox_inches=\"tight\")"
   ]
  },
  {
   "cell_type": "markdown",
   "metadata": {},
   "source": [
    "\n",
    "#### Bonferoni-Holm Correction\n",
    "In some cases, we do not care about all pairwise comparisons as we only propose a single method.\n",
    "In this case we can prefer using the Bonferroni correction with a a control method, where the \n",
    "control is our proposed method.  This is confirmed in Statistical Comparisons of Classifiers over Multiple Data Sets with\n",
    "\n",
    "\"We thus should not make pairwise comparisons when we in fact only test whether a newly proposed method is better than the existing ones.\"\n",
    "\n",
    "This is done with the \"Holm\" method here\n",
    "\n",
    "\n",
    "**NOTE:** This relies on the method being called \"*Proposed Method*\" in the imported CSV file,\n",
    "for lack of a generic way to set the control group."
   ]
  },
  {
   "cell_type": "code",
   "execution_count": null,
   "metadata": {},
   "outputs": [],
   "source": [
    "# This library requires the data in different format to above, so was tranposed\n",
    "statistic, p_value, ranking, rank_cmp  = stac.friedman_test(*np.transpose(data))\n",
    "ranks = {key: rank_cmp[i] for i, key in enumerate(list(df.columns))} \n",
    "\n",
    "comparisons, z_values, p_values, adj_p_values = stac.holm_test(ranks, control=\"AutoCDRP\")\n",
    "print(p_values)\n",
    "adj_p_values = np.asarray(adj_p_values)\n"
   ]
  },
  {
   "cell_type": "code",
   "execution_count": null,
   "metadata": {},
   "outputs": [],
   "source": [
    "print(comparisons)\n",
    "print( z_values)\n",
    "print(p_values)\n",
    "print(adj_p_values)"
   ]
  },
  {
   "cell_type": "code",
   "execution_count": null,
   "metadata": {},
   "outputs": [],
   "source": [
    "# Rankings\n",
    "for method, rank in ranks.items():\n",
    "    print(method +\":\", \"%.2f\" % rank)"
   ]
  },
  {
   "cell_type": "code",
   "execution_count": null,
   "metadata": {},
   "outputs": [],
   "source": [
    "holm_scores = pd.DataFrame({\"p\": adj_p_values, \"sig\": adj_p_values < 0.1}, index=comparisons)"
   ]
  },
  {
   "cell_type": "code",
   "execution_count": null,
   "metadata": {},
   "outputs": [],
   "source": [
    "holm_scores"
   ]
  },
  {
   "cell_type": "code",
   "execution_count": null,
   "metadata": {},
   "outputs": [],
   "source": [
    "import seaborn as sns\n",
    "fig=sns.heatmap(stac.holm_test(ranks, control=\"AutoCDRP\"),annot=True,cmap=\"crest\")\n",
    "fig.figure.savefig(\"output.pdf\")"
   ]
  },
  {
   "cell_type": "code",
   "execution_count": null,
   "outputs": [],
   "source": [],
   "metadata": {
    "collapsed": false
   }
  },
  {
   "cell_type": "code",
   "execution_count": null,
   "outputs": [],
   "source": [],
   "metadata": {
    "collapsed": false
   }
  },
  {
   "cell_type": "code",
   "execution_count": null,
   "outputs": [],
   "source": [],
   "metadata": {
    "collapsed": false,
    "pycharm": {
     "is_executing": true
    }
   }
  },
  {
   "cell_type": "code",
   "execution_count": null,
   "outputs": [],
   "source": [],
   "metadata": {
    "collapsed": false
   }
  }
 ],
 "metadata": {
  "kernelspec": {
   "display_name": "Python 3 (ipykernel)",
   "language": "python",
   "name": "python3"
  },
  "language_info": {
   "codemirror_mode": {
    "name": "ipython",
    "version": 3
   },
   "file_extension": ".py",
   "mimetype": "text/x-python",
   "name": "python",
   "nbconvert_exporter": "python",
   "pygments_lexer": "ipython3",
   "version": "3.8.13"
  }
 },
 "nbformat": 4,
 "nbformat_minor": 2
}
