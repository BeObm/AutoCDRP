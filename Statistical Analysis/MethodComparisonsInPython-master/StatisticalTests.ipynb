{
 "cells": [
  {
   "cell_type": "code",
   "execution_count": 3,
   "metadata": {},
   "outputs": [],
   "source": [
    "import pandas as pd\n",
    "import numpy as np\n",
    "from scipy import stats\n",
    "import scikit_posthocs as sp # https://pypi.org/project/scikit-posthocs/\n",
    "import stac\n",
    "import matplotlib.pyplot as plt"
   ]
  },
  {
   "cell_type": "markdown",
   "metadata": {},
   "source": [
    "# Read in our data for comparing"
   ]
  },
  {
   "cell_type": "code",
   "execution_count": 159,
   "metadata": {},
   "outputs": [
    {
     "name": "stdout",
     "output_type": "stream",
     "text": [
      "Read data\n",
      "Methods: 8 Datasets: 6\n"
     ]
    }
   ],
   "source": [
    "# Assumes a formattting where rows are datasets, and the methods are columns\n",
    "df = pd.read_excel(\"data/comparison_result_autocdrp.xlsx\",engine=\"openpyxl\",header=0,index_col=0)\n",
    "# df = pd.read_csv(\"data/rankings.csv\",header=0,index_col=0)\n",
    "# df=df.drop(columns=\"AutoCDRP\")\n",
    "data = np.asarray(df)\n",
    "\n",
    "print(\"Read data\")\n",
    "\n",
    "# To be safe, ensure this matches what was expected\n",
    "num_datasets, num_methods = data.shape\n",
    "print(\"Methods:\", num_methods, \"Datasets:\", num_datasets)\n"
   ]
  },
  {
   "cell_type": "markdown",
   "metadata": {},
   "source": [
    "conda at## Friedman testing\n",
    "Non parametric test to check if there is a difference in means between the groups (classifiers)"
   ]
  },
  {
   "cell_type": "code",
   "execution_count": 160,
   "metadata": {},
   "outputs": [
    {
     "name": "stdout",
     "output_type": "stream",
     "text": [
      "The friendman's chi-square value is 39.0 and p-value=2.3748365461376314e-07\n",
      "Should we reject H0 (i.e. is there a difference in the means) at the 90.0 % confidence level? True\n"
     ]
    }
   ],
   "source": [
    "alpha = 0.1 # Set this to the desired alpha/signifance level\n",
    "\n",
    "stat, p = stats.friedmanchisquare(*data)\n",
    "\n",
    "print(f\"The friendman's chi-square value is {stat} and p-value={p}\")\n",
    "reject = p <= alpha\n",
    "print(\"Should we reject H0 (i.e. is there a difference in the means) at the\", (1-alpha)*100, \"% confidence level?\", reject)"
   ]
  },
  {
   "cell_type": "markdown",
   "metadata": {},
   "source": []
  },
  {
   "cell_type": "markdown",
   "metadata": {},
   "source": [
    "### Post Hoc Analysis\n",
    "See [Statistical Comparisons of Classifiers over Multiple Data Sets](http://citeseerx.ist.psu.edu/viewdoc/download?doi=10.1.1.141.3142&rep=rep1&type=pdf) for more detail"
   ]
  },
  {
   "cell_type": "code",
   "execution_count": 161,
   "metadata": {},
   "outputs": [],
   "source": [
    "# At this point, we should only continue if H0 was rejected\n",
    "if not reject:\n",
    "    raise Exception(\"Exiting early. The rankings are only relevant if there was a difference in the means i.e. if we rejected h0 above\")"
   ]
  },
  {
   "cell_type": "code",
   "execution_count": 162,
   "metadata": {},
   "outputs": [],
   "source": [
    "# Helper functions for performing the statistical tests\n",
    "def generate_scores(method, method_args, data, labels):\n",
    "    pairwise_scores = method(data, **method_args) # Matrix for all pairwise comaprisons\n",
    "    pairwise_scores=pairwise_scores.set_axis(labels, axis='columns') # Label the cols\n",
    "    pairwise_scores=pairwise_scores.set_axis(labels, axis='rows') # Label the rows, note: same label as pairwise combinations\n",
    "    return pairwise_scores\n",
    "\n",
    "def plot(scores):\n",
    "    # Pretty plot of significance\n",
    "    heatmap_args = {'linewidths': 0.25, 'linecolor': '0.5', 'square': True,'cbar_ax_bbox': [0.80, 0.35, 0.04, 0.3]}\n",
    "\n",
    "    sp.sign_plot(scores, **heatmap_args)"
   ]
  },
  {
   "cell_type": "markdown",
   "metadata": {},
   "source": [
    "#### Nemenyi Test\n",
    "Note: This is relevant when you would like to compare various methods.\n",
    "For example if you propose several methods and want to compare them all against each\n",
    "other, or to do an exhaustive comparison against several method. Often this is not\n",
    "what we want, as we propose only one method (instead see Bonferoni below), and this would\n",
    "be overconservativew. "
   ]
  },
  {
   "cell_type": "code",
   "execution_count": 163,
   "metadata": {},
   "outputs": [],
   "source": [
    "nemenyi_scores = generate_scores(sp.posthoc_nemenyi_friedman, {}, data, list(df.columns))"
   ]
  },
  {
   "cell_type": "code",
   "execution_count": 164,
   "outputs": [
    {
     "data": {
      "text/plain": "['tCNNS',\n 'GCN',\n 'ARMA',\n 'ChebNet',\n 'GraphDRP',\n 'GraOmicDRP',\n 'GraTransDRP',\n 'AutoCDRP']"
     },
     "execution_count": 164,
     "metadata": {},
     "output_type": "execute_result"
    }
   ],
   "source": [
    "list(df.columns)"
   ],
   "metadata": {
    "collapsed": false
   }
  },
  {
   "cell_type": "code",
   "execution_count": 165,
   "metadata": {},
   "outputs": [
    {
     "data": {
      "text/plain": "                tCNNS       GCN      ARMA   ChebNet  GraphDRP  GraOmicDRP   \ntCNNS        1.000000  0.480613  0.833943  0.693026  0.102710    0.900000  \\\nGCN          0.480613  1.000000  0.900000  0.900000  0.900000    0.900000   \nARMA         0.833943  0.900000  1.000000  0.900000  0.869172    0.900000   \nChebNet      0.693026  0.900000  0.900000  1.000000  0.900000    0.900000   \nGraphDRP     0.102710  0.900000  0.869172  0.900000  1.000000    0.798715   \nGraOmicDRP   0.900000  0.900000  0.900000  0.900000  0.798715    1.000000   \nGraTransDRP  0.233425  0.900000  0.900000  0.900000  0.900000    0.900000   \nAutoCDRP     0.001000  0.206098  0.045361  0.087746  0.657795    0.031658   \n\n             GraTransDRP  AutoCDRP  \ntCNNS           0.233425  0.001000  \nGCN             0.900000  0.206098  \nARMA            0.900000  0.045361  \nChebNet         0.900000  0.087746  \nGraphDRP        0.900000  0.657795  \nGraOmicDRP      0.900000  0.031658  \nGraTransDRP     1.000000  0.442264  \nAutoCDRP        0.442264  1.000000  ",
      "text/html": "<div>\n<style scoped>\n    .dataframe tbody tr th:only-of-type {\n        vertical-align: middle;\n    }\n\n    .dataframe tbody tr th {\n        vertical-align: top;\n    }\n\n    .dataframe thead th {\n        text-align: right;\n    }\n</style>\n<table border=\"1\" class=\"dataframe\">\n  <thead>\n    <tr style=\"text-align: right;\">\n      <th></th>\n      <th>tCNNS</th>\n      <th>GCN</th>\n      <th>ARMA</th>\n      <th>ChebNet</th>\n      <th>GraphDRP</th>\n      <th>GraOmicDRP</th>\n      <th>GraTransDRP</th>\n      <th>AutoCDRP</th>\n    </tr>\n  </thead>\n  <tbody>\n    <tr>\n      <th>tCNNS</th>\n      <td>1.000000</td>\n      <td>0.480613</td>\n      <td>0.833943</td>\n      <td>0.693026</td>\n      <td>0.102710</td>\n      <td>0.900000</td>\n      <td>0.233425</td>\n      <td>0.001000</td>\n    </tr>\n    <tr>\n      <th>GCN</th>\n      <td>0.480613</td>\n      <td>1.000000</td>\n      <td>0.900000</td>\n      <td>0.900000</td>\n      <td>0.900000</td>\n      <td>0.900000</td>\n      <td>0.900000</td>\n      <td>0.206098</td>\n    </tr>\n    <tr>\n      <th>ARMA</th>\n      <td>0.833943</td>\n      <td>0.900000</td>\n      <td>1.000000</td>\n      <td>0.900000</td>\n      <td>0.869172</td>\n      <td>0.900000</td>\n      <td>0.900000</td>\n      <td>0.045361</td>\n    </tr>\n    <tr>\n      <th>ChebNet</th>\n      <td>0.693026</td>\n      <td>0.900000</td>\n      <td>0.900000</td>\n      <td>1.000000</td>\n      <td>0.900000</td>\n      <td>0.900000</td>\n      <td>0.900000</td>\n      <td>0.087746</td>\n    </tr>\n    <tr>\n      <th>GraphDRP</th>\n      <td>0.102710</td>\n      <td>0.900000</td>\n      <td>0.869172</td>\n      <td>0.900000</td>\n      <td>1.000000</td>\n      <td>0.798715</td>\n      <td>0.900000</td>\n      <td>0.657795</td>\n    </tr>\n    <tr>\n      <th>GraOmicDRP</th>\n      <td>0.900000</td>\n      <td>0.900000</td>\n      <td>0.900000</td>\n      <td>0.900000</td>\n      <td>0.798715</td>\n      <td>1.000000</td>\n      <td>0.900000</td>\n      <td>0.031658</td>\n    </tr>\n    <tr>\n      <th>GraTransDRP</th>\n      <td>0.233425</td>\n      <td>0.900000</td>\n      <td>0.900000</td>\n      <td>0.900000</td>\n      <td>0.900000</td>\n      <td>0.900000</td>\n      <td>1.000000</td>\n      <td>0.442264</td>\n    </tr>\n    <tr>\n      <th>AutoCDRP</th>\n      <td>0.001000</td>\n      <td>0.206098</td>\n      <td>0.045361</td>\n      <td>0.087746</td>\n      <td>0.657795</td>\n      <td>0.031658</td>\n      <td>0.442264</td>\n      <td>1.000000</td>\n    </tr>\n  </tbody>\n</table>\n</div>"
     },
     "execution_count": 165,
     "metadata": {},
     "output_type": "execute_result"
    }
   ],
   "source": [
    "# Shows the p values for each pair\n",
    "nemenyi_scores"
   ]
  },
  {
   "cell_type": "code",
   "execution_count": 166,
   "outputs": [
    {
     "ename": "SyntaxError",
     "evalue": "invalid syntax (3724833414.py, line 1)",
     "output_type": "error",
     "traceback": [
      "\u001B[1;36m  Cell \u001B[1;32mIn[166], line 1\u001B[1;36m\u001B[0m\n\u001B[1;33m    is not a valid value for name; supported values are 'Accent', 'Accent_r', 'Blues', 'Blues_r', 'BrBG', 'BrBG_r', 'BuGn', 'BuGn_r', 'BuPu', 'BuPu_r', 'CMRmap', 'CMRmap_r', 'Dark2', 'Dark2_r', 'GnBu', 'GnBu_r', 'Greens', 'Greens_r', 'Greys', 'Greys_r', 'OrRd', 'OrRd_r', 'Oranges', 'Oranges_r', 'PRGn', 'PRGn_r', 'Paired', 'Paired_r', 'Pastel1', 'Pastel1_r', 'Pastel2', 'Pastel2_r', 'PiYG', 'PiYG_r', 'PuBu', 'PuBuGn', 'PuBuGn_r', 'PuBu_r', 'PuOr', 'PuOr_r', 'PuRd', 'PuRd_r', 'Purples', 'Purples_r', 'RdBu', 'RdBu_r', 'RdGy', 'RdGy_r', 'RdPu', 'RdPu_r', 'RdYlBu', 'RdYlBu_r', 'RdYlGn', 'RdYlGn_r', 'Reds', 'Reds_r', 'Set1', 'Set1_r', 'Set2', 'Set2_r', 'Set3', 'Set3_r', 'Spectral', 'Spectral_r', 'Wistia', 'Wistia_r', 'YlGn', 'YlGnBu', 'YlGnBu_r', 'YlGn_r', 'YlOrBr', 'YlOrBr_r', 'YlOrRd', 'YlOrRd_r', 'afmhot', 'afmhot_r', 'autumn', 'autumn_r', 'binary', 'binary_r', 'bone', 'bone_r', 'brg', 'brg_r', 'bwr', 'bwr_r', 'cividis', 'cividis_r', 'cool', 'cool_r', 'coolwarm', 'coolwarm_r', 'copper', 'copper_r', 'crest', 'crest_r', 'cubehelix', 'cubehelix_r', 'flag', 'flag_r', 'flare', 'flare_r', 'gist_earth', 'gist_earth_r', 'gist_gray', 'gist_gray_r', 'gist_heat', 'gist_heat_r', 'gist_ncar', 'gist_ncar_r', 'gist_rainbow', 'gist_rainbow_r', 'gist_stern', 'gist_stern_r', 'gist_yarg', 'gist_yarg_r', 'gnuplot', 'gnuplot2', 'gnuplot2_r', 'gnuplot_r', 'gray', 'gray_r', 'hot', 'hot_r', 'hsv', 'hsv_r', 'icefire', 'icefire_r', 'inferno', 'inferno_r', 'jet', 'jet_r', 'magma', 'magma_r', 'mako', 'mako_r', 'nipy_spectral', 'nipy_spectral_r', 'ocean', 'ocean_r', 'pink', 'pink_r', 'plasma', 'plasma_r', 'prism', 'prism_r', 'rainbow', 'rainbow_r', 'rocket', 'rocket_r', 'seismic', 'seismic_r', 'spring', 'spring_r', 'summer', 'summer_r', 'tab10', 'tab10_r', 'tab20', 'tab20_r', 'tab20b', 'tab20b_r', 'tab20c', 'tab20c_r', 'terrain', 'terrain_r', 'turbo', 'turbo_r', 'twilight', 'twilight_r', 'twilight_shifted', 'twilight_shifted_r', 'viridis', 'viridis_r', 'vlag', 'vlag_r', 'winter', 'winter_r\u001B[0m\n\u001B[1;37m    ^\u001B[0m\n\u001B[1;31mSyntaxError\u001B[0m\u001B[1;31m:\u001B[0m invalid syntax\n"
     ]
    }
   ],
   "source": [
    "is not a valid value for name; supported values are 'Accent', 'Accent_r', 'Blues', 'Blues_r', 'BrBG', 'BrBG_r', 'BuGn', 'BuGn_r', 'BuPu', 'BuPu_r', 'CMRmap', 'CMRmap_r', 'Dark2', 'Dark2_r', 'GnBu', 'GnBu_r', 'Greens', 'Greens_r', 'Greys', 'Greys_r', 'OrRd', 'OrRd_r', 'Oranges', 'Oranges_r', 'PRGn', 'PRGn_r', 'Paired', 'Paired_r', 'Pastel1', 'Pastel1_r', 'Pastel2', 'Pastel2_r', 'PiYG', 'PiYG_r', 'PuBu', 'PuBuGn', 'PuBuGn_r', 'PuBu_r', 'PuOr', 'PuOr_r', 'PuRd', 'PuRd_r', 'Purples', 'Purples_r', 'RdBu', 'RdBu_r', 'RdGy', 'RdGy_r', 'RdPu', 'RdPu_r', 'RdYlBu', 'RdYlBu_r', 'RdYlGn', 'RdYlGn_r', 'Reds', 'Reds_r', 'Set1', 'Set1_r', 'Set2', 'Set2_r', 'Set3', 'Set3_r', 'Spectral', 'Spectral_r', 'Wistia', 'Wistia_r', 'YlGn', 'YlGnBu', 'YlGnBu_r', 'YlGn_r', 'YlOrBr', 'YlOrBr_r', 'YlOrRd', 'YlOrRd_r', 'afmhot', 'afmhot_r', 'autumn', 'autumn_r', 'binary', 'binary_r', 'bone', 'bone_r', 'brg', 'brg_r', 'bwr', 'bwr_r', 'cividis', 'cividis_r', 'cool', 'cool_r', 'coolwarm', 'coolwarm_r', 'copper', 'copper_r', 'crest', 'crest_r', 'cubehelix', 'cubehelix_r', 'flag', 'flag_r', 'flare', 'flare_r', 'gist_earth', 'gist_earth_r', 'gist_gray', 'gist_gray_r', 'gist_heat', 'gist_heat_r', 'gist_ncar', 'gist_ncar_r', 'gist_rainbow', 'gist_rainbow_r', 'gist_stern', 'gist_stern_r', 'gist_yarg', 'gist_yarg_r', 'gnuplot', 'gnuplot2', 'gnuplot2_r', 'gnuplot_r', 'gray', 'gray_r', 'hot', 'hot_r', 'hsv', 'hsv_r', 'icefire', 'icefire_r', 'inferno', 'inferno_r', 'jet', 'jet_r', 'magma', 'magma_r', 'mako', 'mako_r', 'nipy_spectral', 'nipy_spectral_r', 'ocean', 'ocean_r', 'pink', 'pink_r', 'plasma', 'plasma_r', 'prism', 'prism_r', 'rainbow', 'rainbow_r', 'rocket', 'rocket_r', 'seismic', 'seismic_r', 'spring', 'spring_r', 'summer', 'summer_r', 'tab10', 'tab10_r', 'tab20', 'tab20_r', 'tab20b', 'tab20b_r', 'tab20c', 'tab20c_r', 'terrain', 'terrain_r', 'turbo', 'turbo_r', 'twilight', 'twilight_r', 'twilight_shifted', 'twilight_shifted_r', 'viridis', 'viridis_r', 'vlag', 'vlag_r', 'winter', 'winter_r"
   ],
   "metadata": {
    "collapsed": false
   }
  },
  {
   "cell_type": "code",
   "execution_count": 181,
   "metadata": {},
   "outputs": [
    {
     "data": {
      "text/plain": "<Figure size 640x480 with 2 Axes>",
      "image/png": "[encoded data removed]"
     },
     "metadata": {},
     "output_type": "display_data"
    }
   ],
   "source": [
    "import seaborn as sns\n",
    "fig=sns.heatmap(nemenyi_scores,annot=False,cmap=\"YlGn\")\n",
    "fig.figure.savefig(\"output.pdf\",dpi=300,format=\"pdf\", bbox_inches=\"tight\")"
   ]
  },
  {
   "cell_type": "markdown",
   "metadata": {},
   "source": [
    "\n",
    "#### Bonferoni-Holm Correction\n",
    "In some cases, we do not care about all pairwise comparisons as we only propose a single method.\n",
    "In this case we can prefer using the Bonferroni correction with a a control method, where the \n",
    "control is our proposed method.  This is confirmed in Statistical Comparisons of Classifiers over Multiple Data Sets with\n",
    "\n",
    "\"We thus should not make pairwise comparisons when we in fact only test whether a newly proposed method is better than the existing ones.\"\n",
    "\n",
    "This is done with the \"Holm\" method here\n",
    "\n",
    "\n",
    "**NOTE:** This relies on the method being called \"*Proposed Method*\" in the imported CSV file,\n",
    "for lack of a generic way to set the control group."
   ]
  },
  {
   "cell_type": "code",
   "execution_count": 168,
   "metadata": {},
   "outputs": [
    {
     "name": "stdout",
     "output_type": "stream",
     "text": [
      "[7.522468307596952e-06, 0.0014627165866811787, 0.002183044737362305, 0.004677734981047177, 0.013328328780817467, 0.03917016602998391, 0.08748033392519727]\n"
     ]
    }
   ],
   "source": [
    "# This library requires the data in different format to above, so was tranposed\n",
    "statistic, p_value, ranking, rank_cmp  = stac.friedman_test(*np.transpose(data))\n",
    "ranks = {key: rank_cmp[i] for i, key in enumerate(list(df.columns))} \n",
    "\n",
    "comparisons, z_values, p_values, adj_p_values = stac.holm_test(ranks, control=\"AutoCDRP\")\n",
    "print(p_values)\n",
    "adj_p_values = np.asarray(adj_p_values)\n"
   ]
  },
  {
   "cell_type": "code",
   "execution_count": 169,
   "metadata": {},
   "outputs": [
    {
     "name": "stdout",
     "output_type": "stream",
     "text": [
      "['AutoCDRP vs tCNNS', 'AutoCDRP vs GraOmicDRP', 'AutoCDRP vs ARMA', 'AutoCDRP vs ChebNet', 'AutoCDRP vs GCN', 'AutoCDRP vs GraTransDRP', 'AutoCDRP vs GraphDRP']\n",
      "[4.4783429475148, 3.1819805153394634, 3.0641293851417055, 2.82842712474619, 2.474873734152916, 2.0623947784607637, 1.7088413878674897]\n",
      "[7.522468307596952e-06, 0.0014627165866811787, 0.002183044737362305, 0.004677734981047177, 0.013328328780817467, 0.03917016602998391, 0.08748033392519727]\n",
      "[5.26572782e-05 8.77629952e-03 1.09152237e-02 1.87109399e-02\n",
      " 3.99849863e-02 7.83403321e-02 8.74803339e-02]\n"
     ]
    }
   ],
   "source": [
    "print(comparisons)\n",
    "print( z_values)\n",
    "print(p_values)\n",
    "print(adj_p_values)"
   ]
  },
  {
   "cell_type": "code",
   "execution_count": 170,
   "metadata": {},
   "outputs": [
    {
     "name": "stdout",
     "output_type": "stream",
     "text": [
      "tCNNS: 1.18\n",
      "GCN: 3.18\n",
      "ARMA: 2.59\n",
      "ChebNet: 2.83\n",
      "GraphDRP: 3.95\n",
      "GraOmicDRP: 2.47\n",
      "GraTransDRP: 3.59\n",
      "AutoCDRP: 5.66\n"
     ]
    }
   ],
   "source": [
    "# Rankings\n",
    "for method, rank in ranks.items():\n",
    "    print(method +\":\", \"%.2f\" % rank)"
   ]
  },
  {
   "cell_type": "code",
   "execution_count": 171,
   "metadata": {},
   "outputs": [],
   "source": [
    "holm_scores = pd.DataFrame({\"p\": adj_p_values, \"sig\": adj_p_values < 0.1}, index=comparisons)"
   ]
  },
  {
   "cell_type": "code",
   "execution_count": 172,
   "metadata": {},
   "outputs": [
    {
     "data": {
      "text/plain": "                                p   sig\nAutoCDRP vs tCNNS        0.000053  True\nAutoCDRP vs GraOmicDRP   0.008776  True\nAutoCDRP vs ARMA         0.010915  True\nAutoCDRP vs ChebNet      0.018711  True\nAutoCDRP vs GCN          0.039985  True\nAutoCDRP vs GraTransDRP  0.078340  True\nAutoCDRP vs GraphDRP     0.087480  True",
      "text/html": "<div>\n<style scoped>\n    .dataframe tbody tr th:only-of-type {\n        vertical-align: middle;\n    }\n\n    .dataframe tbody tr th {\n        vertical-align: top;\n    }\n\n    .dataframe thead th {\n        text-align: right;\n    }\n</style>\n<table border=\"1\" class=\"dataframe\">\n  <thead>\n    <tr style=\"text-align: right;\">\n      <th></th>\n      <th>p</th>\n      <th>sig</th>\n    </tr>\n  </thead>\n  <tbody>\n    <tr>\n      <th>AutoCDRP vs tCNNS</th>\n      <td>0.000053</td>\n      <td>True</td>\n    </tr>\n    <tr>\n      <th>AutoCDRP vs GraOmicDRP</th>\n      <td>0.008776</td>\n      <td>True</td>\n    </tr>\n    <tr>\n      <th>AutoCDRP vs ARMA</th>\n      <td>0.010915</td>\n      <td>True</td>\n    </tr>\n    <tr>\n      <th>AutoCDRP vs ChebNet</th>\n      <td>0.018711</td>\n      <td>True</td>\n    </tr>\n    <tr>\n      <th>AutoCDRP vs GCN</th>\n      <td>0.039985</td>\n      <td>True</td>\n    </tr>\n    <tr>\n      <th>AutoCDRP vs GraTransDRP</th>\n      <td>0.078340</td>\n      <td>True</td>\n    </tr>\n    <tr>\n      <th>AutoCDRP vs GraphDRP</th>\n      <td>0.087480</td>\n      <td>True</td>\n    </tr>\n  </tbody>\n</table>\n</div>"
     },
     "execution_count": 172,
     "metadata": {},
     "output_type": "execute_result"
    }
   ],
   "source": [
    "holm_scores"
   ]
  },
  {
   "cell_type": "code",
   "execution_count": 173,
   "metadata": {},
   "outputs": [
    {
     "ename": "ValueError",
     "evalue": "could not convert string to float: 'AutoCDRP vs tCNNS'",
     "output_type": "error",
     "traceback": [
      "\u001B[1;31m---------------------------------------------------------------------------\u001B[0m",
      "\u001B[1;31mValueError\u001B[0m                                Traceback (most recent call last)",
      "Cell \u001B[1;32mIn[173], line 2\u001B[0m\n\u001B[0;32m      1\u001B[0m \u001B[38;5;28;01mimport\u001B[39;00m \u001B[38;5;21;01mseaborn\u001B[39;00m \u001B[38;5;28;01mas\u001B[39;00m \u001B[38;5;21;01msns\u001B[39;00m\n\u001B[1;32m----> 2\u001B[0m fig\u001B[38;5;241m=\u001B[39m\u001B[43msns\u001B[49m\u001B[38;5;241;43m.\u001B[39;49m\u001B[43mheatmap\u001B[49m\u001B[43m(\u001B[49m\u001B[43mstac\u001B[49m\u001B[38;5;241;43m.\u001B[39;49m\u001B[43mholm_test\u001B[49m\u001B[43m(\u001B[49m\u001B[43mranks\u001B[49m\u001B[43m,\u001B[49m\u001B[43m \u001B[49m\u001B[43mcontrol\u001B[49m\u001B[38;5;241;43m=\u001B[39;49m\u001B[38;5;124;43m\"\u001B[39;49m\u001B[38;5;124;43mAutoCDRP\u001B[39;49m\u001B[38;5;124;43m\"\u001B[39;49m\u001B[43m)\u001B[49m\u001B[43m,\u001B[49m\u001B[43mannot\u001B[49m\u001B[38;5;241;43m=\u001B[39;49m\u001B[38;5;28;43;01mTrue\u001B[39;49;00m\u001B[43m,\u001B[49m\u001B[43mcmap\u001B[49m\u001B[38;5;241;43m=\u001B[39;49m\u001B[38;5;124;43m\"\u001B[39;49m\u001B[38;5;124;43mcrest\u001B[39;49m\u001B[38;5;124;43m\"\u001B[39;49m\u001B[43m)\u001B[49m\n\u001B[0;32m      3\u001B[0m fig\u001B[38;5;241m.\u001B[39mfigure\u001B[38;5;241m.\u001B[39msavefig(\u001B[38;5;124m\"\u001B[39m\u001B[38;5;124moutput.pdf\u001B[39m\u001B[38;5;124m\"\u001B[39m)\n",
      "File \u001B[1;32m~\\miniconda3\\lib\\site-packages\\seaborn\\matrix.py:446\u001B[0m, in \u001B[0;36mheatmap\u001B[1;34m(data, vmin, vmax, cmap, center, robust, annot, fmt, annot_kws, linewidths, linecolor, cbar, cbar_kws, cbar_ax, square, xticklabels, yticklabels, mask, ax, **kwargs)\u001B[0m\n\u001B[0;32m    365\u001B[0m \u001B[38;5;250m\u001B[39m\u001B[38;5;124;03m\"\"\"Plot rectangular data as a color-encoded matrix.\u001B[39;00m\n\u001B[0;32m    366\u001B[0m \n\u001B[0;32m    367\u001B[0m \u001B[38;5;124;03mThis is an Axes-level function and will draw the heatmap into the\u001B[39;00m\n\u001B[1;32m   (...)\u001B[0m\n\u001B[0;32m    443\u001B[0m \n\u001B[0;32m    444\u001B[0m \u001B[38;5;124;03m\"\"\"\u001B[39;00m\n\u001B[0;32m    445\u001B[0m \u001B[38;5;66;03m# Initialize the plotter object\u001B[39;00m\n\u001B[1;32m--> 446\u001B[0m plotter \u001B[38;5;241m=\u001B[39m \u001B[43m_HeatMapper\u001B[49m\u001B[43m(\u001B[49m\u001B[43mdata\u001B[49m\u001B[43m,\u001B[49m\u001B[43m \u001B[49m\u001B[43mvmin\u001B[49m\u001B[43m,\u001B[49m\u001B[43m \u001B[49m\u001B[43mvmax\u001B[49m\u001B[43m,\u001B[49m\u001B[43m \u001B[49m\u001B[43mcmap\u001B[49m\u001B[43m,\u001B[49m\u001B[43m \u001B[49m\u001B[43mcenter\u001B[49m\u001B[43m,\u001B[49m\u001B[43m \u001B[49m\u001B[43mrobust\u001B[49m\u001B[43m,\u001B[49m\u001B[43m \u001B[49m\u001B[43mannot\u001B[49m\u001B[43m,\u001B[49m\u001B[43m \u001B[49m\u001B[43mfmt\u001B[49m\u001B[43m,\u001B[49m\n\u001B[0;32m    447\u001B[0m \u001B[43m                      \u001B[49m\u001B[43mannot_kws\u001B[49m\u001B[43m,\u001B[49m\u001B[43m \u001B[49m\u001B[43mcbar\u001B[49m\u001B[43m,\u001B[49m\u001B[43m \u001B[49m\u001B[43mcbar_kws\u001B[49m\u001B[43m,\u001B[49m\u001B[43m \u001B[49m\u001B[43mxticklabels\u001B[49m\u001B[43m,\u001B[49m\n\u001B[0;32m    448\u001B[0m \u001B[43m                      \u001B[49m\u001B[43myticklabels\u001B[49m\u001B[43m,\u001B[49m\u001B[43m \u001B[49m\u001B[43mmask\u001B[49m\u001B[43m)\u001B[49m\n\u001B[0;32m    450\u001B[0m \u001B[38;5;66;03m# Add the pcolormesh kwargs here\u001B[39;00m\n\u001B[0;32m    451\u001B[0m kwargs[\u001B[38;5;124m\"\u001B[39m\u001B[38;5;124mlinewidths\u001B[39m\u001B[38;5;124m\"\u001B[39m] \u001B[38;5;241m=\u001B[39m linewidths\n",
      "File \u001B[1;32m~\\miniconda3\\lib\\site-packages\\seaborn\\matrix.py:163\u001B[0m, in \u001B[0;36m_HeatMapper.__init__\u001B[1;34m(self, data, vmin, vmax, cmap, center, robust, annot, fmt, annot_kws, cbar, cbar_kws, xticklabels, yticklabels, mask)\u001B[0m\n\u001B[0;32m    160\u001B[0m \u001B[38;5;28mself\u001B[39m\u001B[38;5;241m.\u001B[39mylabel \u001B[38;5;241m=\u001B[39m ylabel \u001B[38;5;28;01mif\u001B[39;00m ylabel \u001B[38;5;129;01mis\u001B[39;00m \u001B[38;5;129;01mnot\u001B[39;00m \u001B[38;5;28;01mNone\u001B[39;00m \u001B[38;5;28;01melse\u001B[39;00m \u001B[38;5;124m\"\u001B[39m\u001B[38;5;124m\"\u001B[39m\n\u001B[0;32m    162\u001B[0m \u001B[38;5;66;03m# Determine good default values for the colormapping\u001B[39;00m\n\u001B[1;32m--> 163\u001B[0m \u001B[38;5;28;43mself\u001B[39;49m\u001B[38;5;241;43m.\u001B[39;49m\u001B[43m_determine_cmap_params\u001B[49m\u001B[43m(\u001B[49m\u001B[43mplot_data\u001B[49m\u001B[43m,\u001B[49m\u001B[43m \u001B[49m\u001B[43mvmin\u001B[49m\u001B[43m,\u001B[49m\u001B[43m \u001B[49m\u001B[43mvmax\u001B[49m\u001B[43m,\u001B[49m\n\u001B[0;32m    164\u001B[0m \u001B[43m                            \u001B[49m\u001B[43mcmap\u001B[49m\u001B[43m,\u001B[49m\u001B[43m \u001B[49m\u001B[43mcenter\u001B[49m\u001B[43m,\u001B[49m\u001B[43m \u001B[49m\u001B[43mrobust\u001B[49m\u001B[43m)\u001B[49m\n\u001B[0;32m    166\u001B[0m \u001B[38;5;66;03m# Sort out the annotations\u001B[39;00m\n\u001B[0;32m    167\u001B[0m \u001B[38;5;28;01mif\u001B[39;00m annot \u001B[38;5;129;01mis\u001B[39;00m \u001B[38;5;28;01mNone\u001B[39;00m \u001B[38;5;129;01mor\u001B[39;00m annot \u001B[38;5;129;01mis\u001B[39;00m \u001B[38;5;28;01mFalse\u001B[39;00m:\n",
      "File \u001B[1;32m~\\miniconda3\\lib\\site-packages\\seaborn\\matrix.py:197\u001B[0m, in \u001B[0;36m_HeatMapper._determine_cmap_params\u001B[1;34m(self, plot_data, vmin, vmax, cmap, center, robust)\u001B[0m\n\u001B[0;32m    194\u001B[0m \u001B[38;5;250m\u001B[39m\u001B[38;5;124;03m\"\"\"Use some heuristics to set good defaults for colorbar and range.\"\"\"\u001B[39;00m\n\u001B[0;32m    196\u001B[0m \u001B[38;5;66;03m# plot_data is a np.ma.array instance\u001B[39;00m\n\u001B[1;32m--> 197\u001B[0m calc_data \u001B[38;5;241m=\u001B[39m \u001B[43mplot_data\u001B[49m\u001B[38;5;241;43m.\u001B[39;49m\u001B[43mastype\u001B[49m\u001B[43m(\u001B[49m\u001B[38;5;28;43mfloat\u001B[39;49m\u001B[43m)\u001B[49m\u001B[38;5;241m.\u001B[39mfilled(np\u001B[38;5;241m.\u001B[39mnan)\n\u001B[0;32m    198\u001B[0m \u001B[38;5;28;01mif\u001B[39;00m vmin \u001B[38;5;129;01mis\u001B[39;00m \u001B[38;5;28;01mNone\u001B[39;00m:\n\u001B[0;32m    199\u001B[0m     \u001B[38;5;28;01mif\u001B[39;00m robust:\n",
      "\u001B[1;31mValueError\u001B[0m: could not convert string to float: 'AutoCDRP vs tCNNS'"
     ]
    }
   ],
   "source": [
    "import seaborn as sns\n",
    "fig=sns.heatmap(stac.holm_test(ranks, control=\"AutoCDRP\"),annot=True,cmap=\"crest\")\n",
    "fig.figure.savefig(\"output.pdf\")"
   ]
  },
  {
   "cell_type": "code",
   "execution_count": 173,
   "outputs": [],
   "source": [],
   "metadata": {
    "collapsed": false
   }
  },
  {
   "cell_type": "code",
   "execution_count": 173,
   "outputs": [],
   "source": [],
   "metadata": {
    "collapsed": false
   }
  },
  {
   "cell_type": "code",
   "execution_count": null,
   "outputs": [],
   "source": [],
   "metadata": {
    "collapsed": false,
    "pycharm": {
     "is_executing": true
    }
   }
  },
  {
   "cell_type": "code",
   "execution_count": 173,
   "outputs": [],
   "source": [],
   "metadata": {
    "collapsed": false
   }
  }
 ],
 "metadata": {
  "kernelspec": {
   "display_name": "Python 3 (ipykernel)",
   "language": "python",
   "name": "python3"
  },
  "language_info": {
   "codemirror_mode": {
    "name": "ipython",
    "version": 3
   },
   "file_extension": ".py",
   "mimetype": "text/x-python",
   "name": "python",
   "nbconvert_exporter": "python",
   "pygments_lexer": "ipython3",
   "version": "3.8.13"
  }
 },
 "nbformat": 4,
 "nbformat_minor": 2
}
